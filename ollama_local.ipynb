{
 "cells": [
  {
   "cell_type": "code",
   "execution_count": null,
   "id": "bc932a56-3929-4fb3-8b4a-3f0096b38bf8",
   "metadata": {},
   "outputs": [],
   "source": [
    "# !pip install ollama"
   ]
  },
  {
   "cell_type": "code",
   "execution_count": 25,
   "id": "b53ed515-ef50-45f6-addc-69f50d1e280b",
   "metadata": {},
   "outputs": [],
   "source": [
    "import ollama\n",
    "import time"
   ]
  },
  {
   "cell_type": "markdown",
   "id": "26ab99bb-ba30-4b88-9936-698149772bcb",
   "metadata": {},
   "source": [
    "https://ollama.com/library/llama3:8b\n",
    "llama3.1:8b ~4.7GB\n",
    "llama3.2:3b ~2.0GB"
   ]
  },
  {
   "cell_type": "code",
   "execution_count": 26,
   "id": "8a6013ce-2ec7-476e-89e2-8796773f75ae",
   "metadata": {},
   "outputs": [],
   "source": [
    "desiredModel = 'llama3.1:8b'"
   ]
  },
  {
   "cell_type": "code",
   "execution_count": 27,
   "id": "8a3bdf83-f800-48cc-8b49-6feb74eac444",
   "metadata": {},
   "outputs": [
    {
     "data": {
      "text/plain": [
       "{'status': 'success'}"
      ]
     },
     "execution_count": 27,
     "metadata": {},
     "output_type": "execute_result"
    }
   ],
   "source": [
    "ollama.pull(desiredModel)"
   ]
  },
  {
   "cell_type": "code",
   "execution_count": 28,
   "id": "d7d5c615-37f1-43ec-8072-6130ad60d9c5",
   "metadata": {},
   "outputs": [],
   "source": [
    "my_txt =\"\"\"\n",
    "Gina Parvaneh Cody CM is a Canadian-Iranian engineer and business leader.\n",
    "\n",
    "In 1989, Cody became the first woman in Canada to earn a PhD in building engineering.[1] In 2018, following her donation of $15 million, Concordia University renamed its faculty of engineering and computer science after her (the Gina Cody School of Engineering and Computer Science), making it the first university engineering and computer science faculty to be named after a woman in Canada, and one of the first internationally.[2][3][4][5]\n",
    "Early life and education\n",
    "\n",
    "Cody was born in Iran in 1956.[3] Her father owned a boy's high school, where she would teach during the summer.[3][5] Her three brothers became engineers, while her sister became a dentist.[5][6] In 1978, Cody completed a Bachelor of Science degree in structural engineering at Aryamehr University of Technology (now called Sharif University of Technology).[5][7][6]\n",
    "\n",
    "Cody left Iran for Canada in 1979 with $2,000. At this point, her brother had completed a Bachelor's of Engineering at Concordia University in Montreal, and arranged for her to meet with the engineering professor Cedric Marsh.[5] Through this meeting, Cody received a scholarship in engineering to attend Concordia University in Montreal, where she completed a master's degree in engineering in 1981.[3][5]\n",
    "\n",
    "In 1989, Cody became the first woman in Canada to earn a PhD in building engineering, also from Concordia.[1][2][7]\n",
    "Career\n",
    "\n",
    "Following her PhD, Cody moved to Toronto, where she worked for a year on provincial building codes for Ontario's Ministry of Housing (now the Ministry of Municipal Affairs and Housing).[5][6] She then moved to the private sector, where she performed tower crane inspections at Construction Control Inc. (CCI), an Ontario-based engineering consulting company, making her the first woman to climb Toronto construction cranes as an inspector.[5][7] She worked her way up through CCI to become its president.[3][5][7][8]\n",
    "\n",
    "Cody eventually became the executive chair and principal shareholder of CCI Group Inc.[3][5] She sold CCI Group Inc. and retired in 2016.[3] Following a 2016 merger, the CCI Group Inc. now operates as McIntosh Perry Consulting Engineers.[5]\n",
    "\n",
    "In 2018, Cody made an historic $15-million gift to the Concordia University faculty she had twice graduated from, which was renamed the Gina Cody School of Engineering and Computer Science. It is the first engineering and computer science faculty in Canada and one of the first in the world named after a woman.[2][3][4] Her support fosters gender equity, diversity and inclusion through 100 undergraduate and 40 graduate entrance scholarships across the faculty. In addition, it supports the Canada Excellence Research Chair in Smart and Resilient Cities and Communities, and enables the next-generation work of three new research chairs – in the internet of things, artificial intelligence, and industry 4.0.[2][3][4]\n",
    "\n",
    "Cody became co-chancellor of Concordia University on May 1, 2024, alongside fellow alumnus Jonathan Wener. She commences a three-year term as chancellor on January 1, 2025.[9]\n",
    "Advocate for equity, diversity and inclusion\n",
    "\n",
    "Since retiring and making her landmark gift to Concordia University, Cody has become a vocal advocate for equity, diversity and inclusion in science, technology, engineering and math (STEM) fields.\n",
    "\n",
    "Cody has been invited to speak at dozens of events for major corporations, universities, governments, conferences and women's groups. These include keynote presentations for the Association québécoise des technologies, Autodesk, City of Markham, CCWESTT 2020, Bombardier, Broadcom, Engineers Without Borders Canada, IEEE, Pratt & Whitney, PwC, Qualcomm, Ryerson University (now Toronto Metropolitan University), SAP, Siemens, Sunlife, UCLA, Western University, the University of Sherbrooke, the Canadian Museum of Immigration at Pier 21 and Let’s Talk Science.\n",
    "Board memberships\n",
    "\n",
    "Cody is one of the few women to chair a TSX 60 company – the Canadian Apartment Properties REIT (CAPREIT). She also chairs the European Residential REIT and serves on the boards of EllisDon, CIMA+ and Sienna Senior Living.\n",
    "Other roles and responsibilities\n",
    "\n",
    "    Honorary Lieutenant-Colonel of 34 Combat Engineer Regiment (CER)\n",
    "    Co-Chancellor, Concordia University\n",
    "    Co-Chair of the Campaign for Concordia. Next-Gen. Now.\n",
    "    Chair of the Gina Cody School Advisory Board, Concordia University\n",
    "\n",
    "Awards and honours\n",
    "\n",
    "For her contributions to engineering, business and her community, Cody has received numerous awards, including an Award of Merit from the Canadian Standards Association,[10] a Volunteer Service Award from the Government of Ontario[11] and Officer of the Order of Honour of Professional Engineers Ontario.[12] The Financial Post recognized Construction Control (then under Cody's management) as one of Canada's best managed companies.[5][8] In 2010, Profit magazine named Cody one of Canada's Top Women Entrepreneurs, and listed CCI as the ninth most profitable Canadian company owned by a woman.[5][7][13] The following year, the Concordia University Alumni Association named her Alumna of the Year.[7][1]\n",
    "\n",
    "Cody was named to the Order of Montreal in 2019[14] and was appointed a Member of the Order of Canada in 2021.[15] She was inducted as a Fellow of the Canadian Academy of Engineering in 2019.[16] Cody was named one of Canada's Top 25 Women of Influence in 2020[17] and a Woman of Distinction by the Women’s Y Foundation of Montreal in 2023.[18]\n",
    "\n",
    "In 2022 Cody was awarded an honorary doctorate in engineering by the University of Sherbrooke[19] and named outstanding major donor for 2022 by the Association of Fundraising Professionals (AFP) Quebec.[20] She is also an honorary Lieutenant-Colonel of the 34 Combat Engineer Regiment (CER) of the Canadian Armed Forces.\n",
    "Personal life\n",
    "Cody currently resides in Toronto and is married to Thomas Cody, a Concordia MBA graduate and retired Bank of America Canada senior vice-president, whom she met while both were students at Concordia.[5] The couple have two daughters, Roya and Tina Cody.\n",
    "\"\"\""
   ]
  },
  {
   "cell_type": "code",
   "execution_count": 29,
   "id": "ebb606eb-b70e-470f-87b1-73d0ba73ad14",
   "metadata": {},
   "outputs": [],
   "source": [
    "instruction = \"summarize this in 50 words\""
   ]
  },
  {
   "cell_type": "code",
   "execution_count": 30,
   "id": "747a7205-542b-4db0-9839-1c63c9cc40dd",
   "metadata": {},
   "outputs": [
    {
     "data": {
      "text/plain": [
       "\"\\nGina Parvaneh Cody CM is a Canadian-Iranian engineer and business leader.\\n\\nIn 1989, Cody became the first woman in Canada to earn a PhD in building engineering.[1] In 2018, following her donation of $15 million, Concordia University renamed its faculty of engineering and computer science after her (the Gina Cody School of Engineering and Computer Science), making it the first university engineering and computer science faculty to be named after a woman in Canada, and one of the first internationally.[2][3][4][5]\\nEarly life and education\\n\\nCody was born in Iran in 1956.[3] Her father owned a boy's high school, where she would teach during the summer.[3][5] Her three brothers became engineers, while her sister became a dentist.[5][6] In 1978, Cody completed a Bachelor of Science degree in structural engineering at Aryamehr University of Technology (now called Sharif University of Technology).[5][7][6]\\n\\nCody left Iran for Canada in 1979 with $2,000. At this point, her brother had completed a Bachelor's of Engineering at Concordia University in Montreal, and arranged for her to meet with the engineering professor Cedric Marsh.[5] Through this meeting, Cody received a scholarship in engineering to attend Concordia University in Montreal, where she completed a master's degree in engineering in 1981.[3][5]\\n\\nIn 1989, Cody became the first woman in Canada to earn a PhD in building engineering, also from Concordia.[1][2][7]\\nCareer\\n\\nFollowing her PhD, Cody moved to Toronto, where she worked for a year on provincial building codes for Ontario's Ministry of Housing (now the Ministry of Municipal Affairs and Housing).[5][6] She then moved to the private sector, where she performed tower crane inspections at Construction Control Inc. (CCI), an Ontario-based engineering consulting company, making her the first woman to climb Toronto construction cranes as an inspector.[5][7] She worked her way up through CCI to become its president.[3][5][7][8]\\n\\nCody eventually became the executive chair and principal shareholder of CCI Group Inc.[3][5] She sold CCI Group Inc. and retired in 2016.[3] Following a 2016 merger, the CCI Group Inc. now operates as McIntosh Perry Consulting Engineers.[5]\\n\\nIn 2018, Cody made an historic $15-million gift to the Concordia University faculty she had twice graduated from, which was renamed the Gina Cody School of Engineering and Computer Science. It is the first engineering and computer science faculty in Canada and one of the first in the world named after a woman.[2][3][4] Her support fosters gender equity, diversity and inclusion through 100 undergraduate and 40 graduate entrance scholarships across the faculty. In addition, it supports the Canada Excellence Research Chair in Smart and Resilient Cities and Communities, and enables the next-generation work of three new research chairs – in the internet of things, artificial intelligence, and industry 4.0.[2][3][4]\\n\\nCody became co-chancellor of Concordia University on May 1, 2024, alongside fellow alumnus Jonathan Wener. She commences a three-year term as chancellor on January 1, 2025.[9]\\nAdvocate for equity, diversity and inclusion\\n\\nSince retiring and making her landmark gift to Concordia University, Cody has become a vocal advocate for equity, diversity and inclusion in science, technology, engineering and math (STEM) fields.\\n\\nCody has been invited to speak at dozens of events for major corporations, universities, governments, conferences and women's groups. These include keynote presentations for the Association québécoise des technologies, Autodesk, City of Markham, CCWESTT 2020, Bombardier, Broadcom, Engineers Without Borders Canada, IEEE, Pratt & Whitney, PwC, Qualcomm, Ryerson University (now Toronto Metropolitan University), SAP, Siemens, Sunlife, UCLA, Western University, the University of Sherbrooke, the Canadian Museum of Immigration at Pier 21 and Let’s Talk Science.\\nBoard memberships\\n\\nCody is one of the few women to chair a TSX 60 company – the Canadian Apartment Properties REIT (CAPREIT). She also chairs the European Residential REIT and serves on the boards of EllisDon, CIMA+ and Sienna Senior Living.\\nOther roles and responsibilities\\n\\n    Honorary Lieutenant-Colonel of 34 Combat Engineer Regiment (CER)\\n    Co-Chancellor, Concordia University\\n    Co-Chair of the Campaign for Concordia. Next-Gen. Now.\\n    Chair of the Gina Cody School Advisory Board, Concordia University\\n\\nAwards and honours\\n\\nFor her contributions to engineering, business and her community, Cody has received numerous awards, including an Award of Merit from the Canadian Standards Association,[10] a Volunteer Service Award from the Government of Ontario[11] and Officer of the Order of Honour of Professional Engineers Ontario.[12] The Financial Post recognized Construction Control (then under Cody's management) as one of Canada's best managed companies.[5][8] In 2010, Profit magazine named Cody one of Canada's Top Women Entrepreneurs, and listed CCI as the ninth most profitable Canadian company owned by a woman.[5][7][13] The following year, the Concordia University Alumni Association named her Alumna of the Year.[7][1]\\n\\nCody was named to the Order of Montreal in 2019[14] and was appointed a Member of the Order of Canada in 2021.[15] She was inducted as a Fellow of the Canadian Academy of Engineering in 2019.[16] Cody was named one of Canada's Top 25 Women of Influence in 2020[17] and a Woman of Distinction by the Women’s Y Foundation of Montreal in 2023.[18]\\n\\nIn 2022 Cody was awarded an honorary doctorate in engineering by the University of Sherbrooke[19] and named outstanding major donor for 2022 by the Association of Fundraising Professionals (AFP) Quebec.[20] She is also an honorary Lieutenant-Colonel of the 34 Combat Engineer Regiment (CER) of the Canadian Armed Forces.\\nPersonal life\\nCody currently resides in Toronto and is married to Thomas Cody, a Concordia MBA graduate and retired Bank of America Canada senior vice-president, whom she met while both were students at Concordia.[5] The couple have two daughters, Roya and Tina Cody.\\nsummarize this in 50 words\""
      ]
     },
     "execution_count": 30,
     "metadata": {},
     "output_type": "execute_result"
    }
   ],
   "source": [
    "prompt_in = my_txt+instruction\n",
    "prompt_in"
   ]
  },
  {
   "cell_type": "code",
   "execution_count": 31,
   "id": "ccdb1380-705b-4df0-ae14-0a7ad4be55a2",
   "metadata": {},
   "outputs": [
    {
     "name": "stdout",
     "output_type": "stream",
     "text": [
      "Gina Parvaneh Cody is a Canadian-Iranian engineer and business leader. She was the first woman to earn a PhD in building engineering in Canada (1989) and later donated $15 million to Concordia University, renaming its faculty after her. She's a vocal advocate for equity and diversity in STEM fields.\n",
      "Time: 24.595 sec\n"
     ]
    }
   ],
   "source": [
    "# Define the model parameters, including temperature\n",
    "response = ollama.generate(\n",
    "    model=desiredModel,  # replace with your specific model\n",
    "    prompt=prompt_in,\n",
    "    options={\"temperature\":0.0}\n",
    ")\n",
    "\n",
    "print(response['response'])\n",
    "print(F'Time: {response['eval_duration']/(10**9)} sec')"
   ]
  },
  {
   "cell_type": "code",
   "execution_count": 32,
   "id": "1c117947-2213-4ab7-9bb3-c98c7f70af0d",
   "metadata": {},
   "outputs": [
    {
     "name": "stdout",
     "output_type": "stream",
     "text": [
      "<think>\n",
      "Okay, so I need to explain Newton's second law of motion. Hmm, where do I start? I remember from school that it has something to do with force and acceleration. Let me try to recall.\n",
      "\n",
      "Newton's second law is one of the three laws Sir Isaac Newton came up with. The first was about inertia, right? That an object stays at rest or moves in a straight line unless acted upon by an external force. The third law is about action and reaction pairs. So the second law must be about how forces affect motion.\n",
      "\n",
      "I think it's something like force equals mass times acceleration, yeah F=ma. But wait, what does each part mean? Mass is like the amount of matter in an object, so a heavy object has more mass than a light one. Acceleration is how fast the velocity changes over time.\n",
      "\n",
      "So if you have a big mass and apply a certain force, it won't accelerate as much as a smaller mass with the same force. That makes sense because heavier objects are harder to move or stop once moving. \n",
      "\n",
      "Wait, but sometimes people get confused between mass and weight. Mass is constant regardless of location, whereas weight depends on gravity. So Newton's second law applies to both, I think.\n",
      "\n",
      "Let me think about an example. If you push a shopping cart with a certain force, it accelerates. If you push something heavier, like a piano, the same force won't make it accelerate as much. That fits F=ma because the mass of the piano is greater than that of the cart.\n",
      "\n",
      "Also, if you have two objects and apply the same force to both, the lighter one will accelerate more. So acceleration is inversely proportional to mass when force is constant. \n",
      "\n",
      "Another thing: acceleration depends on the net force applied. If multiple forces are acting on an object, only the resultant (or net) force affects the acceleration. So F in the equation is actually the sum of all external forces.\n",
      "\n",
      "Oh right, units too. In the metric system, the Newton is the unit for force. It's equal to kg·m/s² because mass is in kilograms and acceleration is m/s².\n",
      "\n",
      "Wait, sometimes people mix up Newton's second law with others. Like, Newton's first is about inertia, third is action-reaction. So yeah, the second one specifically deals with how forces cause acceleration.\n",
      "\n",
      "I should also mention that this law applies to all objects as long as we consider the net force and neglect any friction or air resistance unless specified. In real life, those factors can complicate things a bit.\n",
      "\n",
      "So putting it all together: Newton's second law states that the acceleration of an object is directly proportional to the net force applied and inversely proportional to its mass. The equation F=ma encapsulates this relationship, where F is force, m is mass, and a is acceleration.\n",
      "</think>\n",
      "\n",
      "Newton's second law of motion is a fundamental principle in physics that describes the relationship between force, mass, and acceleration. Here's a structured explanation:\n",
      "\n",
      "1. **Statement**: Newton's second law states that the acceleration of an object is directly proportional to the net force acting on it and inversely proportional to its mass. This can be mathematically expressed as F = ma, where:\n",
      "   - \\( F \\) represents the net force applied (in Newtons, N),\n",
      "   - \\( m \\) is the mass of the object (in kilograms, kg),\n",
      "   - \\( a \\) is the acceleration produced (in meters per second squared, m/s²).\n",
      "\n",
      "2. **Key Concepts**:\n",
      "   - **Force**: The external push or pull that causes an object to change its velocity. It can be a single force or the vector sum of multiple forces.\n",
      "   - **Mass**: The amount of matter in an object, measured in kilograms. Mass is constant and independent of location.\n",
      "   - **Acceleration**: The rate at which the velocity of an object changes over time.\n",
      "\n",
      "3. **Implications**:\n",
      "   - For a given force, lighter objects accelerate more than heavier ones. This explains why a piano accelerates less with the same push compared to a shopping cart.\n",
      "   - Acceleration is influenced by all external forces acting on an object; thus, net force determines acceleration, not just one force.\n",
      "\n",
      "4. **Examples**:\n",
      "   - Pushing a light cart versus a heavy one demonstrates how mass affects acceleration for the same applied force.\n",
      "   - In sports, players use force and understanding of mass to control acceleration when throwing or kicking objects.\n",
      "\n",
      "5. **Units**: The Newton (N) is the unit of force in the metric system, equivalent to kg·m/s².\n",
      "\n",
      "6. **Considerations**: While F = ma is straightforward, real-world applications may require considering additional factors like friction or air resistance unless specified.\n",
      "\n",
      "In summary, Newton's second law succinctly explains how net force and mass determine acceleration, with F = ma being the mathematical expression of this relationship.\n"
     ]
    }
   ],
   "source": [
    "response = ollama.chat(\n",
    "    model=\"deepseek-r1\",\n",
    "    messages=[\n",
    "        {\"role\": \"user\", \"content\": \"Explain Newton's second law of motion\"},\n",
    "    ],\n",
    ")\n",
    "print(response[\"message\"][\"content\"])"
   ]
  },
  {
   "cell_type": "code",
   "execution_count": 33,
   "id": "28818402-515b-4956-a0fd-a16eea500fca",
   "metadata": {},
   "outputs": [
    {
     "name": "stdout",
     "output_type": "stream",
     "text": [
      "<think>\n",
      "Okay, so I need to summarize this article about Gina Cody into 50 words. Let me read through the content carefully.\n",
      "\n",
      "First, it's about Gina Parvaneh Cody, a Canadian-Iranian engineer who became the first woman in Canada to earn a PhD in building engineering in 1989. She later donated $15 million to Concordia University to rename its engineering school after her, making it the first such faculty named after a woman in Canada.\n",
      "\n",
      "She started her career in Iran, teaching during summers and later moved to Canada where she earned her master's and PhD from Concordia. After her PhD, she worked in the private sector, became president of CCI Group Inc., and retired in 2016. She also chairs Concordia University as co-chancellor.\n",
      "\n",
      "Cody is a advocate for gender equity in STEM fields and has received numerous awards, including being named an Officer of the Order of Canada. She's married to Thomas Cody and resides in Toronto with their two daughters.\n",
      "\n",
      "I need to condense all this into 50 words without losing key points: her achievements, donation, impact on Concordia, career highlights, advocacy, personal info.\n",
      "</think>\n",
      "\n",
      "Gina Parvaneh Cody, a Canadian-Iranian engineer, became the first woman in Canada to earn a PhD in building engineering (1989) and later renamed Concordia University's engineering school after her ($15 million donation). She earned her degrees from Concordia, worked in engineering consulting, and retired in 2016. As co-chancellor of Concordia since 2024, she advocates for gender equity in STEM. Cody has numerous awards, including Officer of the Order of Canada, and is married to Thomas Cody with two daughters.\n",
      "Time: 109.806 sec\n"
     ]
    }
   ],
   "source": [
    "# Define the model parameters, including temperature\n",
    "response = ollama.generate(\n",
    "    model=\"deepseek-r1\",  # replace with your specific model\n",
    "    prompt=prompt_in,\n",
    "    options={\"temperature\":0.0}\n",
    ")\n",
    "\n",
    "print(response['response'])\n",
    "print(F'Time: {response['eval_duration']/(10**9)} sec')"
   ]
  },
  {
   "cell_type": "code",
   "execution_count": null,
   "id": "f24ecc8b-b1a0-4f29-a41a-1abcc7e35a1c",
   "metadata": {},
   "outputs": [],
   "source": []
  }
 ],
 "metadata": {
  "kernelspec": {
   "display_name": "venv_ollama",
   "language": "python",
   "name": "venv_ollama"
  },
  "language_info": {
   "codemirror_mode": {
    "name": "ipython",
    "version": 3
   },
   "file_extension": ".py",
   "mimetype": "text/x-python",
   "name": "python",
   "nbconvert_exporter": "python",
   "pygments_lexer": "ipython3",
   "version": "3.12.7"
  }
 },
 "nbformat": 4,
 "nbformat_minor": 5
}
